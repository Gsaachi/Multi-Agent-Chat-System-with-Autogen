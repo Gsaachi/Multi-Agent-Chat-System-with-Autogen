{
  "cells": [
    {
      "cell_type": "code",
      "execution_count": 20,
      "metadata": {
        "colab": {
          "base_uri": "https://localhost:8080/"
        },
        "id": "IZzWW6ohQVoG",
        "outputId": "42548a7b-f762-48f6-f859-f843502e8560"
      },
      "outputs": [
        {
          "name": "stdout",
          "output_type": "stream",
          "text": [
            "\u001b[2K   \u001b[90m━━━━━━━━━━━━━━━━━━━━━━━━━━━━━━━━━━━━━━━━\u001b[0m \u001b[32m317.1/317.1 kB\u001b[0m \u001b[31m3.9 MB/s\u001b[0m eta \u001b[36m0:00:00\u001b[0m\n",
            "\u001b[2K     \u001b[90m━━━━━━━━━━━━━━━━━━━━━━━━━━━━━━━━━━━━━━━━\u001b[0m \u001b[32m44.4/44.4 kB\u001b[0m \u001b[31m3.5 MB/s\u001b[0m eta \u001b[36m0:00:00\u001b[0m\n",
            "\u001b[2K     \u001b[90m━━━━━━━━━━━━━━━━━━━━━━━━━━━━━━━━━━━━━━━━\u001b[0m \u001b[32m82.4/82.4 kB\u001b[0m \u001b[31m5.6 MB/s\u001b[0m eta \u001b[36m0:00:00\u001b[0m\n",
            "\u001b[2K     \u001b[90m━━━━━━━━━━━━━━━━━━━━━━━━━━━━━━━━━━━━━━━━\u001b[0m \u001b[32m52.3/52.3 kB\u001b[0m \u001b[31m4.8 MB/s\u001b[0m eta \u001b[36m0:00:00\u001b[0m\n",
            "\u001b[2K   \u001b[90m━━━━━━━━━━━━━━━━━━━━━━━━━━━━━━━━━━━━━━━━\u001b[0m \u001b[32m124.9/124.9 kB\u001b[0m \u001b[31m9.5 MB/s\u001b[0m eta \u001b[36m0:00:00\u001b[0m\n",
            "\u001b[2K   \u001b[90m━━━━━━━━━━━━━━━━━━━━━━━━━━━━━━━━━━━━━━━━\u001b[0m \u001b[32m129.8/129.8 kB\u001b[0m \u001b[31m11.2 MB/s\u001b[0m eta \u001b[36m0:00:00\u001b[0m\n",
            "\u001b[2K   \u001b[90m━━━━━━━━━━━━━━━━━━━━━━━━━━━━━━━━━━━━━━━━\u001b[0m \u001b[32m210.7/210.7 kB\u001b[0m \u001b[31m13.9 MB/s\u001b[0m eta \u001b[36m0:00:00\u001b[0m\n",
            "\u001b[2K   \u001b[90m━━━━━━━━━━━━━━━━━━━━━━━━━━━━━━━━━━━━━━━━\u001b[0m \u001b[32m298.8/298.8 kB\u001b[0m \u001b[31m21.6 MB/s\u001b[0m eta \u001b[36m0:00:00\u001b[0m\n",
            "\u001b[2K   \u001b[90m━━━━━━━━━━━━━━━━━━━━━━━━━━━━━━━━━━━━━━━━\u001b[0m \u001b[32m186.8/186.8 kB\u001b[0m \u001b[31m15.0 MB/s\u001b[0m eta \u001b[36m0:00:00\u001b[0m\n",
            "\u001b[2K   \u001b[90m━━━━━━━━━━━━━━━━━━━━━━━━━━━━━━━━━━━━━━━━\u001b[0m \u001b[32m189.8/189.8 kB\u001b[0m \u001b[31m15.5 MB/s\u001b[0m eta \u001b[36m0:00:00\u001b[0m\n",
            "\u001b[2K   \u001b[90m━━━━━━━━━━━━━━━━━━━━━━━━━━━━━━━━━━━━━━━━\u001b[0m \u001b[32m412.9/412.9 kB\u001b[0m \u001b[31m25.3 MB/s\u001b[0m eta \u001b[36m0:00:00\u001b[0m\n",
            "\u001b[2K   \u001b[90m━━━━━━━━━━━━━━━━━━━━━━━━━━━━━━━━━━━━━━━━\u001b[0m \u001b[32m115.4/115.4 kB\u001b[0m \u001b[31m9.9 MB/s\u001b[0m eta \u001b[36m0:00:00\u001b[0m\n",
            "\u001b[?25h"
          ]
        }
      ],
      "source": [
        "\n",
        "!pip install -U \"autogen-agentchat\" -q\n",
        "!pip install \"autogen-ext[openai]\" -q\n",
        "!pip install \"autogen-ext[azure]\" -q"
      ]
    },
    {
      "cell_type": "code",
      "execution_count": 23,
      "metadata": {
        "colab": {
          "base_uri": "https://localhost:8080/"
        },
        "id": "7du2JsNZaeIg",
        "outputId": "3a909000-dd5a-4ac1-bcc9-61127b2d68d7"
      },
      "outputs": [
        {
          "name": "stdout",
          "output_type": "stream",
          "text": [
            "\u001b[?25l   \u001b[90m━━━━━━━━━━━━━━━━━━━━━━━━━━━━━━━━━━━━━━━━\u001b[0m \u001b[32m0.0/859.2 kB\u001b[0m \u001b[31m?\u001b[0m eta \u001b[36m-:--:--\u001b[0m\r\u001b[2K   \u001b[91m━━━━━━━━━━━━━━\u001b[0m\u001b[91m╸\u001b[0m\u001b[90m━━━━━━━━━━━━━━━━━━━━━━━━━\u001b[0m \u001b[32m317.4/859.2 kB\u001b[0m \u001b[31m9.4 MB/s\u001b[0m eta \u001b[36m0:00:01\u001b[0m\r\u001b[2K   \u001b[90m━━━━━━━━━━━━━━━━━━━━━━━━━━━━━━━━━━━━━━━━\u001b[0m \u001b[32m859.2/859.2 kB\u001b[0m \u001b[31m13.1 MB/s\u001b[0m eta \u001b[36m0:00:00\u001b[0m\n",
            "\u001b[2K   \u001b[90m━━━━━━━━━━━━━━━━━━━━━━━━━━━━━━━━━━━━━━━━\u001b[0m \u001b[32m45.5/45.5 kB\u001b[0m \u001b[31m3.9 MB/s\u001b[0m eta \u001b[36m0:00:00\u001b[0m\n",
            "\u001b[2K   \u001b[90m━━━━━━━━━━━━━━━━━━━━━━━━━━━━━━━━━━━━━━━━\u001b[0m \u001b[32m147.8/147.8 kB\u001b[0m \u001b[31m12.4 MB/s\u001b[0m eta \u001b[36m0:00:00\u001b[0m\n",
            "\u001b[?25h"
          ]
        }
      ],
      "source": [
        "!pip install autogen -q"
      ]
    },
    {
      "cell_type": "code",
      "execution_count": null,
      "metadata": {
        "id": "9bnCXFRHZd9f"
      },
      "outputs": [],
      "source": [
        "import os\n",
        "from autogen import AssistantAgent, UserProxyAgent, GroupChat, GroupChatManager\n",
        "from autogen_agentchat.agents import AssistantAgent\n",
        "from autogen_agentchat.ui import Console\n",
        "from autogen_ext.models.openai import OpenAIChatCompletionClient\n",
        "from autogen import AssistantAgent, UserProxyAgent\n",
        "\n",
        "\n",
        "\n",
        "groq_api_key = \" \"\n",
        "\n",
        "llm_config = {\n",
        "    \"config_list\": [\n",
        "        {\n",
        "            \"model\": \"llama3-8b-8192\",\n",
        "            \"api_key\": groq_api_key,\n",
        "            \"base_url\": \"https://api.groq.com/openai/v1/\"\n",
        "        }\n",
        "    ],\n",
        "    \"temperature\": 0.7\n",
        "}\n"
      ]
    },
    {
      "cell_type": "code",
      "execution_count": 35,
      "metadata": {
        "colab": {
          "base_uri": "https://localhost:8080/"
        },
        "id": "8uUs2OHOQVlw",
        "outputId": "20595dea-5cdb-42da-f2ad-5b6eb9a32393"
      },
      "outputs": [
        {
          "name": "stdout",
          "output_type": "stream",
          "text": [
            "User (to chat_manager):\n",
            "\n",
            "Topic: Menopause in women. Please retrieve articles, summarize them, extract insights, critique, and generate questions.\n",
            "\n",
            "--------------------------------------------------------------------------------\n",
            "[autogen.oai.client: 07-20 15:42:45] {708} WARNING - Model llama3-8b-8192 is not found. The cost will be 0. In your config_list, add field {\"price\" : [prompt_price_per_1k, completion_token_price_per_1k]} for customized pricing.\n"
          ]
        },
        {
          "name": "stderr",
          "output_type": "stream",
          "text": [
            "WARNING:autogen.oai.client:Model llama3-8b-8192 is not found. The cost will be 0. In your config_list, add field {\"price\" : [prompt_price_per_1k, completion_token_price_per_1k]} for customized pricing.\n"
          ]
        },
        {
          "name": "stdout",
          "output_type": "stream",
          "text": [
            "\n",
            "Next speaker: Finder\n",
            "\n",
            "[autogen.oai.client: 07-20 15:42:49] {708} WARNING - Model llama3-8b-8192 is not found. The cost will be 0. In your config_list, add field {\"price\" : [prompt_price_per_1k, completion_token_price_per_1k]} for customized pricing.\n"
          ]
        },
        {
          "name": "stderr",
          "output_type": "stream",
          "text": [
            "WARNING:autogen.oai.client:Model llama3-8b-8192 is not found. The cost will be 0. In your config_list, add field {\"price\" : [prompt_price_per_1k, completion_token_price_per_1k]} for customized pricing.\n"
          ]
        },
        {
          "name": "stdout",
          "output_type": "stream",
          "text": [
            "Finder (to chat_manager):\n",
            "\n",
            "Here are three research paper excerpts related to menopause in women:\n",
            "\n",
            "**Excerpt 1:**\n",
            "\n",
            "Title: \"Menopausal Symptoms and Quality of Life in Women: A Systematic Review and Meta-Analysis\" (2020)\n",
            "\n",
            "Authors: Lee et al.\n",
            "\n",
            "URL: https://www.ncbi.nlm.nih.gov/pmc/articles/PMC7443355/\n",
            "\n",
            "Excerpt: \"Menopausal symptoms, such as hot flashes and vaginal dryness, are common and can significantly impact quality of life. This systematic review and meta-analysis aimed to synthesize the evidence on the prevalence and predictors of menopausal symptoms and quality of life in women. A total of 34 studies were included, and the results showed that the prevalence of hot flashes ranged from 40% to 80%, while the prevalence of vaginal dryness ranged from 20% to 60%. The study also found that older age, lower education level, and presence of chronic comorbidities were associated with worse quality of life.\"\n",
            "\n",
            "Insights:\n",
            "\n",
            "* Menopausal symptoms are common and can have a significant impact on quality of life.\n",
            "* Older age, lower education level, and presence of chronic comorbidities are associated with worse quality of life.\n",
            "\n",
            "Questions:\n",
            "\n",
            "* What are some effective treatments for menopausal symptoms?\n",
            "* How do these symptoms affect women's daily lives and relationships?\n",
            "\n",
            "**Excerpt 2:**\n",
            "\n",
            "Title: \"The Impact of Menopause on Bone Density and Fracture Risk in Women: A Systematic Review and Meta-Analysis\" (2019)\n",
            "\n",
            "Authors: Cui et al.\n",
            "\n",
            "URL: https://www.ncbi.nlm.nih.gov/pmc/articles/PMC6864334/\n",
            "\n",
            "Excerpt: \"Menopause is associated with a significant decline in bone density, leading to an increased risk of fractures. This systematic review and meta-analysis aimed to assess the impact of menopause on bone density and fracture risk in women. A total of 45 studies were included, and the results showed that menopause was associated with a significant decrease in bone density at the hip, spine, and total body. The study also found that hormone therapy, particularly estrogen therapy, was effective in improving bone density and reducing fracture risk.\"\n",
            "\n",
            "Insights:\n",
            "\n",
            "* Menopause is associated with a significant decline in bone density, leading to an increased risk of fractures.\n",
            "* Hormone therapy, particularly estrogen therapy, is effective in improving bone density and reducing fracture risk.\n",
            "\n",
            "Questions:\n",
            "\n",
            "* What are some alternative treatments for bone loss and fracture risk in women who cannot take hormone therapy?\n",
            "* How can women reduce their risk of fractures during menopause?\n",
            "\n",
            "**Excerpt 3:**\n",
            "\n",
            "Title: \"The Effects of Menopause on Cognitive Function and Depression in Women: A Systematic Review and Meta-Analysis\" (2018)\n",
            "\n",
            "Authors: Kim et al.\n",
            "\n",
            "URL: https://www.ncbi.nlm.nih.gov/pmc/articles/PMC6203153/\n",
            "\n",
            "Excerpt: \"Menopause is associated with cognitive decline and depression, which can have a significant impact on women's quality of life. This systematic review and meta-analysis aimed to assess the effects of menopause on cognitive function and depression in women. A total of 30 studies were included, and the results showed that menopause was associated with a significant decline in cognitive function, particularly in memory and executive function. The study also found that depression was more common in women during the menopausal transition and postmenopause.\"\n",
            "\n",
            "Insights:\n",
            "\n",
            "* Menopause is associated with cognitive decline, particularly in memory and executive function.\n",
            "* Depression is more common in women during the menopausal transition and postmenopause.\n",
            "\n",
            "Questions:\n",
            "\n",
            "* What are some effective treatments for cognitive decline and depression in women during menopause?\n",
            "* How can women manage stress and maintain mental health during this transition?\n",
            "\n",
            "Overall, these excerpts highlight the significant impact of menopause on women's quality of life, including symptoms, bone density, and cognitive function. They also emphasize the importance of effective treatments and lifestyle changes to mitigate these effects.\n",
            "\n",
            "--------------------------------------------------------------------------------\n",
            "[autogen.oai.client: 07-20 15:42:50] {708} WARNING - Model llama3-8b-8192 is not found. The cost will be 0. In your config_list, add field {\"price\" : [prompt_price_per_1k, completion_token_price_per_1k]} for customized pricing.\n"
          ]
        },
        {
          "name": "stderr",
          "output_type": "stream",
          "text": [
            "WARNING:autogen.oai.client:Model llama3-8b-8192 is not found. The cost will be 0. In your config_list, add field {\"price\" : [prompt_price_per_1k, completion_token_price_per_1k]} for customized pricing.\n"
          ]
        },
        {
          "name": "stdout",
          "output_type": "stream",
          "text": [
            "\n",
            "Next speaker: Summarizer\n",
            "\n",
            "[autogen.oai.client: 07-20 15:42:51] {708} WARNING - Model llama3-8b-8192 is not found. The cost will be 0. In your config_list, add field {\"price\" : [prompt_price_per_1k, completion_token_price_per_1k]} for customized pricing.\n"
          ]
        },
        {
          "name": "stderr",
          "output_type": "stream",
          "text": [
            "WARNING:autogen.oai.client:Model llama3-8b-8192 is not found. The cost will be 0. In your config_list, add field {\"price\" : [prompt_price_per_1k, completion_token_price_per_1k]} for customized pricing.\n"
          ]
        },
        {
          "name": "stdout",
          "output_type": "stream",
          "text": [
            "Summarizer (to chat_manager):\n",
            "\n",
            "Here is a summary of the excerpts in concise points:\n",
            "\n",
            "**Menopausal Symptoms and Quality of Life**\n",
            "\n",
            "* Menopausal symptoms are common and can significantly impact quality of life.\n",
            "* Older age, lower education level, and presence of chronic comorbidities are associated with worse quality of life.\n",
            "* Hot flashes and vaginal dryness are common symptoms, affecting 40-80% and 20-60% of women, respectively.\n",
            "\n",
            "**Bone Density and Fracture Risk**\n",
            "\n",
            "* Menopause is associated with a significant decline in bone density, leading to an increased risk of fractures.\n",
            "* Hormone therapy, particularly estrogen therapy, is effective in improving bone density and reducing fracture risk.\n",
            "\n",
            "**Cognitive Function and Depression**\n",
            "\n",
            "* Menopause is associated with cognitive decline, particularly in memory and executive function.\n",
            "* Depression is more common in women during the menopausal transition and postmenopause.\n",
            "\n",
            "Insights:\n",
            "\n",
            "* Menopause has a significant impact on women's quality of life, including symptoms, bone density, and cognitive function.\n",
            "* Effective treatments, such as hormone therapy, and lifestyle changes can help mitigate these effects.\n",
            "* Older age, lower education level, and presence of chronic comorbidities are associated with worse quality of life and may require additional support.\n",
            "\n",
            "Questions:\n",
            "\n",
            "* What are some effective treatments for menopausal symptoms, bone loss, and cognitive decline?\n",
            "* How can women manage stress and maintain mental health during menopause?\n",
            "* What are some alternative treatments for bone loss and cognitive decline in women who cannot take hormone therapy?\n",
            "* How can women reduce their risk of fractures during menopause?\n",
            "\n",
            "Critique:\n",
            "\n",
            "* The studies reviewed are primarily observational and may have limitations in terms of sample size and representation.\n",
            "* The results may not be generalizable to all women, particularly those from diverse racial and ethnic backgrounds.\n",
            "* Further research is needed to understand the underlying mechanisms of menopausal symptoms, bone loss, and cognitive decline, as well as to identify effective treatments and lifestyle changes.\n",
            "\n",
            "Recommendations:\n",
            "\n",
            "* Healthcare providers should consider the impact of menopause on women's quality of life and offer evidence-based treatments and lifestyle changes to mitigate its effects.\n",
            "* Women experiencing menopausal symptoms should be encouraged to seek medical attention and discuss treatment options with their healthcare provider.\n",
            "* Further research is needed to address the gaps in our understanding of menopause and its effects on women's health.\n",
            "\n",
            "--------------------------------------------------------------------------------\n",
            "\n",
            ">>>>>>>> TERMINATING RUN (41751532-e01e-46cc-a0f2-83b48deef5ea): Maximum rounds (3) reached\n"
          ]
        }
      ],
      "source": [
        "\n",
        "user_proxy = UserProxyAgent(name=\"User\", human_input_mode=\"NEVER\")\n",
        "\n",
        "finder_agent = AssistantAgent(\n",
        "    name=\"Finder\",\n",
        "    llm_config=llm_config,\n",
        "    system_message=\"You are an expert search assistant. Given a topic, return 2-3 relevant research paper article excerpts (mocked here).\"\n",
        "                    \"along with their respective URLs in the format:\\n\\n\"\n",
        ")\n",
        "\n",
        "url_agent = AssistantAgent(\n",
        "    name=\"Url\",\n",
        "    llm_config=llm_config,\n",
        "    system_message=\"From the previous Finder's message, extract and list only the article URLs.\"\n",
        "\n",
        ")\n",
        "\n",
        "summarizer_agent = AssistantAgent(\n",
        "    name=\"Summarizer\",\n",
        "    llm_config=llm_config,\n",
        "    system_message=\"Summarize long content into concise points.\"\n",
        ")\n",
        "\n",
        "insight_agent = AssistantAgent(\n",
        "    name=\"InsightExtractor\",\n",
        "    llm_config=llm_config,\n",
        "    system_message=\"Extract 3 most insightful takeaways from the summary.\"\n",
        ")\n",
        "\n",
        "critic_agent = AssistantAgent(\n",
        "    name=\"Critic\",\n",
        "    llm_config=llm_config,\n",
        "    system_message=\"Critique the arguments and reasoning in the summary.\"\n",
        ")\n",
        "\n",
        "question_agent = AssistantAgent(\n",
        "    name=\"QuestionGenerator\",\n",
        "    llm_config=llm_config,\n",
        "    system_message=\"Ask 3 thought-provoking questions based on the summary.\"\n",
        ")\n",
        "\n",
        "group_chat = GroupChat(\n",
        "    agents=[user_proxy, finder_agent, summarizer_agent, insight_agent, critic_agent, question_agent, url_agent],\n",
        "    messages=[],\n",
        "    max_round=3,\n",
        ")\n",
        "\n",
        "manager = GroupChatManager(groupchat=group_chat, llm_config=llm_config)\n",
        "\n",
        "topic = \"Menopause in women\"\n",
        "result = user_proxy.initiate_chat(\n",
        "    manager,\n",
        "    message=f\"Topic: {topic}. Please retrieve articles, summarize them, extract insights, critique, and generate questions.\"\n",
        ")\n"
      ]
    },
    {
      "cell_type": "code",
      "execution_count": null,
      "metadata": {
        "id": "_BgK1IKlQVjb"
      },
      "outputs": [],
      "source": []
    },
    {
      "cell_type": "code",
      "execution_count": null,
      "metadata": {
        "id": "A__EPV-wQVg2"
      },
      "outputs": [],
      "source": []
    },
    {
      "cell_type": "code",
      "execution_count": null,
      "metadata": {
        "id": "uHKpfbbHQVeu"
      },
      "outputs": [],
      "source": []
    },
    {
      "cell_type": "code",
      "execution_count": null,
      "metadata": {
        "id": "K_HrlEQTQVcI"
      },
      "outputs": [],
      "source": []
    },
    {
      "cell_type": "code",
      "execution_count": null,
      "metadata": {
        "id": "qyYdkzYUQVZT"
      },
      "outputs": [],
      "source": []
    },
    {
      "cell_type": "code",
      "execution_count": null,
      "metadata": {
        "id": "3WgX0_xkJNU_"
      },
      "outputs": [],
      "source": []
    },
    {
      "cell_type": "code",
      "execution_count": null,
      "metadata": {
        "id": "fcdo8ndTJNXT"
      },
      "outputs": [],
      "source": []
    },
    {
      "cell_type": "code",
      "execution_count": null,
      "metadata": {
        "id": "QzH3YR-nJNZq"
      },
      "outputs": [],
      "source": []
    },
    {
      "cell_type": "code",
      "execution_count": null,
      "metadata": {
        "id": "fxlqCpcJAM_v"
      },
      "outputs": [],
      "source": []
    }
  ],
  "metadata": {
    "colab": {
      "provenance": []
    },
    "kernelspec": {
      "display_name": "Python 3",
      "name": "python3"
    },
    "language_info": {
      "name": "python"
    }
  },
  "nbformat": 4,
  "nbformat_minor": 0
}
